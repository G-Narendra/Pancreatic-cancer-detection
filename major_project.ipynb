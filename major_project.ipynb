{
  "cells": [
    {
      "cell_type": "markdown",
      "metadata": {
        "id": "OA6U3EZ0PZuU"
      },
      "source": [
        "Installing Keras-Tuner"
      ]
    },
    {
      "cell_type": "code",
      "execution_count": 1,
      "metadata": {
        "colab": {
          "base_uri": "https://localhost:8080/"
        },
        "id": "f2bpyU_SOUWi",
        "outputId": "d09faf1f-2156-47f5-b30e-9790d54cc63d"
      },
      "outputs": [
        {
          "name": "stdout",
          "output_type": "stream",
          "text": [
            "Collecting keras-tuner\n",
            "  Downloading keras_tuner-1.4.7-py3-none-any.whl.metadata (5.4 kB)\n",
            "Requirement already satisfied: keras in /usr/local/lib/python3.10/dist-packages (from keras-tuner) (2.15.0)\n",
            "Requirement already satisfied: packaging in /usr/local/lib/python3.10/dist-packages (from keras-tuner) (24.1)\n",
            "Requirement already satisfied: requests in /usr/local/lib/python3.10/dist-packages (from keras-tuner) (2.32.3)\n",
            "Collecting kt-legacy (from keras-tuner)\n",
            "  Downloading kt_legacy-1.0.5-py3-none-any.whl.metadata (221 bytes)\n",
            "Requirement already satisfied: charset-normalizer<4,>=2 in /usr/local/lib/python3.10/dist-packages (from requests->keras-tuner) (3.3.2)\n",
            "Requirement already satisfied: idna<4,>=2.5 in /usr/local/lib/python3.10/dist-packages (from requests->keras-tuner) (3.8)\n",
            "Requirement already satisfied: urllib3<3,>=1.21.1 in /usr/local/lib/python3.10/dist-packages (from requests->keras-tuner) (2.0.7)\n",
            "Requirement already satisfied: certifi>=2017.4.17 in /usr/local/lib/python3.10/dist-packages (from requests->keras-tuner) (2024.8.30)\n",
            "Downloading keras_tuner-1.4.7-py3-none-any.whl (129 kB)\n",
            "\u001b[2K   \u001b[90m━━━━━━━━━━━━━━━━━━━━━━━━━━━━━━━━━━━━━━━━\u001b[0m \u001b[32m129.1/129.1 kB\u001b[0m \u001b[31m1.3 MB/s\u001b[0m eta \u001b[36m0:00:00\u001b[0m\n",
            "\u001b[?25hDownloading kt_legacy-1.0.5-py3-none-any.whl (9.6 kB)\n",
            "Installing collected packages: kt-legacy, keras-tuner\n",
            "Successfully installed keras-tuner-1.4.7 kt-legacy-1.0.5\n"
          ]
        }
      ],
      "source": [
        "\n",
        "!pip install keras-tuner"
      ]
    },
    {
      "cell_type": "markdown",
      "metadata": {
        "id": "To2u9SBIPbu7"
      },
      "source": [
        "Connecting to the drive"
      ]
    },
    {
      "cell_type": "code",
      "execution_count": 2,
      "metadata": {
        "colab": {
          "base_uri": "https://localhost:8080/"
        },
        "id": "HJiHwAKUOiKN",
        "outputId": "7d1a4661-b226-41f5-ea44-1b5208869a9e"
      },
      "outputs": [
        {
          "name": "stdout",
          "output_type": "stream",
          "text": [
            "Mounted at /content/drive\n"
          ]
        }
      ],
      "source": [
        "from google.colab import drive\n",
        "drive.mount('/content/drive')"
      ]
    },
    {
      "cell_type": "markdown",
      "metadata": {
        "id": "l8bXiEUmPd1t"
      },
      "source": [
        "importing the modules required"
      ]
    },
    {
      "cell_type": "code",
      "execution_count": 3,
      "metadata": {
        "colab": {
          "base_uri": "https://localhost:8080/"
        },
        "id": "bgVW6byfOj_h",
        "outputId": "10c36637-4a04-44c1-bec0-4101d1fe406a"
      },
      "outputs": [
        {
          "name": "stderr",
          "output_type": "stream",
          "text": [
            "<ipython-input-3-6bfedc0b9050>:11: DeprecationWarning: `import kerastuner` is deprecated, please use `import keras_tuner`.\n",
            "  from kerastuner.tuners import RandomSearch\n"
          ]
        }
      ],
      "source": [
        "import os\n",
        "import numpy as np\n",
        "import cv2\n",
        "import tensorflow as tf\n",
        "from sklearn.model_selection import train_test_split\n",
        "from tensorflow.keras.models import Model\n",
        "from tensorflow.keras.layers import Dense, GlobalAveragePooling2D, Concatenate\n",
        "from tensorflow.keras.applications import EfficientNetB0, InceptionV3, ResNet50, DenseNet121, VGG16, MobileNetV2\n",
        "from tensorflow.keras.optimizers import Adam\n",
        "from sklearn.metrics import classification_report, confusion_matrix\n",
        "from kerastuner.tuners import RandomSearch\n",
        "import matplotlib.pyplot as plt"
      ]
    },
    {
      "cell_type": "markdown",
      "metadata": {
        "id": "_xF675rePefr"
      },
      "source": [
        "Load and preprocess of images"
      ]
    },
    {
      "cell_type": "code",
      "execution_count": 4,
      "metadata": {
        "id": "QzdF2MJPOoV-"
      },
      "outputs": [],
      "source": [
        "# Data Preprocessing\n",
        "def preprocess_input(img):\n",
        "    img = cv2.resize(img, (224, 224))\n",
        "    img = img / 255.0\n",
        "    return img\n",
        "\n",
        "def load_images_from_folder(folder):\n",
        "    images = []\n",
        "    for filename in os.listdir(folder):\n",
        "        if filename.endswith(\".jpg\"):\n",
        "            img = cv2.imread(os.path.join(folder, filename), cv2.IMREAD_GRAYSCALE)\n",
        "            img = preprocess_input(img)\n",
        "            img = np.stack((img,)*3, axis=-1)  # Convert grayscale to RGB by stacking\n",
        "            if img is not None:\n",
        "                images.append(img)\n",
        "    return np.array(images)\n",
        "\n",
        "\n",
        "\n",
        "\n",
        "# Load datasets\n",
        "train_normal = load_images_from_folder('/content/drive/MyDrive/ct_images_02/DATASET/train/train/normal')\n",
        "train_tumor = load_images_from_folder('/content/drive/MyDrive/ct_images_02/DATASET/train/train/pancreatic_tumor')\n",
        "test_normal = load_images_from_folder('/content/drive/MyDrive/ct_images_02/DATASET/test/test/normal')\n",
        "test_tumor = load_images_from_folder('/content/drive/MyDrive/ct_images_02/DATASET/test/test/pancreatic_tumor')"
      ]
    },
    {
      "cell_type": "markdown",
      "metadata": {
        "id": "Wo3tUitYPfPT"
      },
      "source": [
        "Labeling"
      ]
    },
    {
      "cell_type": "code",
      "execution_count": 6,
      "metadata": {
        "id": "EQ7lG4xDPN7P"
      },
      "outputs": [],
      "source": [
        "# Create labels\n",
        "train_labels_normal = np.zeros(train_normal.shape[0])\n",
        "train_labels_tumor = np.ones(train_tumor.shape[0])\n",
        "test_labels_normal = np.zeros(test_normal.shape[0])\n",
        "test_labels_tumor = np.ones(test_tumor.shape[0])\n",
        "\n",
        "# Combine datasets\n",
        "train_images = np.concatenate((train_normal, train_tumor), axis=0)\n",
        "train_labels = np.concatenate((train_labels_normal, train_labels_tumor), axis=0)\n",
        "test_images = np.concatenate((test_normal, test_tumor), axis=0)\n",
        "test_labels = np.concatenate((test_labels_normal, test_labels_tumor), axis=0)\n",
        "\n",
        "# Data Augmentation\n",
        "data_augmentation = tf.keras.Sequential([\n",
        "    tf.keras.layers.RandomFlip(\"horizontal_and_vertical\"),\n",
        "    tf.keras.layers.RandomRotation(0.2),\n",
        "    tf.keras.layers.RandomZoom(0.2),\n",
        "    tf.keras.layers.RandomContrast(0.2),\n",
        "])\n",
        "\n",
        "# Apply augmentation to training images\n",
        "train_images = data_augmentation(train_images, training=True)\n"
      ]
    },
    {
      "cell_type": "markdown",
      "metadata": {
        "id": "Y1Craj-8Pf20"
      },
      "source": [
        "Declaring Best hyperparameter"
      ]
    },
    {
      "cell_type": "code",
      "execution_count": 5,
      "metadata": {
        "id": "ffDZp6sCPbBZ"
      },
      "outputs": [],
      "source": [
        "# Set the best learning rate obtained from previous tuning\n",
        "best_learning_rate = 0.0001"
      ]
    },
    {
      "cell_type": "markdown",
      "metadata": {
        "id": "lH8wNs2SPg7O"
      },
      "source": [
        "Defining the function for model evaluation"
      ]
    },
    {
      "cell_type": "code",
      "execution_count": 7,
      "metadata": {
        "id": "C8lgPFLNPmeE"
      },
      "outputs": [],
      "source": [
        "# Evaluate the Models\n",
        "def evaluate_model(model, test_images, test_labels):\n",
        "    # Make predictions\n",
        "    y_pred = (model.predict([test_images, test_images]) > 0.5).astype(\"int32\")\n",
        "\n",
        "    # Generate confusion matrix\n",
        "    confusion_mtx = confusion_matrix(test_labels, y_pred)\n",
        "\n",
        "    TN, FP, FN, TP = confusion_mtx.ravel()\n",
        "\n",
        "    # Calculate metrics\n",
        "    accuracy = (TP + TN) / (TP + TN + FP + FN)\n",
        "    precision = TP / (TP + FP) if (TP + FP) > 0 else 0\n",
        "    recall = TP / (TP + FN) if (TP + FN) > 0 else 0\n",
        "    f1_score = 2 * (precision * recall) / (precision + recall) if (precision + recall) > 0 else 0\n",
        "    specificity = TN / (TN + FP) if (TN + FP) > 0 else 0\n",
        "\n",
        "    return accuracy, precision, recall, f1_score, specificity, confusion_mtx\n",
        "\n",
        "\n"
      ]
    },
    {
      "cell_type": "markdown",
      "metadata": {
        "id": "G2Z_WDDyPhvl"
      },
      "source": [
        "Definining the VGG16V2 model"
      ]
    },
    {
      "cell_type": "code",
      "execution_count": 12,
      "metadata": {
        "id": "Er89lesJPR1I"
      },
      "outputs": [],
      "source": [
        "def VGG16V2():\n",
        "    base_model1 = VGG16(weights='imagenet', include_top=False, input_shape=(224, 224, 3))\n",
        "    base_model2 = MobileNetV2(weights='imagenet', include_top=False, input_shape=(224, 224, 3))\n",
        "\n",
        "    x1 = base_model1.output\n",
        "    x1 = GlobalAveragePooling2D()(x1)\n",
        "\n",
        "    x2 = base_model2.output\n",
        "    x2 = GlobalAveragePooling2D()(x2)\n",
        "\n",
        "    combined = Concatenate()([x1, x2])\n",
        "    x = Dense(256, activation='relu')(combined)\n",
        "    predictions = Dense(1, activation='sigmoid')(x)\n",
        "\n",
        "    model = Model(inputs=[base_model1.input, base_model2.input], outputs=predictions)\n",
        "    return model"
      ]
    },
    {
      "cell_type": "markdown",
      "metadata": {
        "id": "eGA0_40nPiVE"
      },
      "source": [
        "Training the VGG16V2 Model"
      ]
    },
    {
      "cell_type": "code",
      "execution_count": null,
      "metadata": {
        "colab": {
          "base_uri": "https://localhost:8080/"
        },
        "id": "siNTMrcsPdFi",
        "outputId": "8c26207f-ed34-4026-80db-860b8f879a59"
      },
      "outputs": [
        {
          "name": "stdout",
          "output_type": "stream",
          "text": [
            "Epoch 1/10\n",
            "24/24 [==============================] - 125s 5s/step - loss: 0.1534 - accuracy: 0.9398 - val_loss: 0.0672 - val_accuracy: 0.9680\n",
            "Epoch 2/10\n",
            "24/24 [==============================] - 110s 5s/step - loss: 0.0392 - accuracy: 0.9813 - val_loss: 1.5865 - val_accuracy: 0.2280\n",
            "Epoch 3/10\n",
            "24/24 [==============================] - 110s 5s/step - loss: 0.0171 - accuracy: 0.9973 - val_loss: 0.1100 - val_accuracy: 0.9360\n",
            "Epoch 4/10\n",
            "24/24 [==============================] - 109s 5s/step - loss: 0.0047 - accuracy: 1.0000 - val_loss: 0.1511 - val_accuracy: 0.9200\n",
            "Epoch 5/10\n",
            "24/24 [==============================] - 109s 5s/step - loss: 0.0049 - accuracy: 0.9973 - val_loss: 0.6052 - val_accuracy: 0.8040\n",
            "Epoch 6/10\n",
            "24/24 [==============================] - 109s 5s/step - loss: 0.0101 - accuracy: 0.9960 - val_loss: 0.8956 - val_accuracy: 0.7200\n",
            "Epoch 7/10\n",
            "24/24 [==============================] - 109s 5s/step - loss: 0.0129 - accuracy: 0.9960 - val_loss: 0.1980 - val_accuracy: 0.9080\n",
            "Epoch 8/10\n",
            "24/24 [==============================] - 109s 5s/step - loss: 0.0019 - accuracy: 1.0000 - val_loss: 0.1240 - val_accuracy: 0.9280\n",
            "Epoch 9/10\n",
            "14/24 [================>.............] - ETA: 44s - loss: 7.1175e-04 - accuracy: 1.0000"
          ]
        }
      ],
      "source": [
        "# Train Hybrid Model VGG16V2\n",
        "model1 = VGG16V2()\n",
        "model1.compile(optimizer=Adam(learning_rate=best_learning_rate), loss='binary_crossentropy', metrics=['accuracy'])\n",
        "model1.fit([train_images, train_images], train_labels, validation_split=0.25, epochs=10)\n"
      ]
    },
    {
      "cell_type": "markdown",
      "metadata": {
        "id": "2MtblkwbPi99"
      },
      "source": [
        "Evaluating the VGG16V2 Model"
      ]
    },
    {
      "cell_type": "code",
      "execution_count": null,
      "metadata": {
        "id": "rAhTIfbrGWKO"
      },
      "outputs": [],
      "source": [
        "# Evaluate Hybrid Model 1\n",
        "metrics1 = evaluate_model(model1, test_images, test_labels)\n",
        "print(f\"Hybrid Model 1 (EfficientNetB0 + InceptionV3): Accuracy: {metrics1[0]:.4f}, Precision: {metrics1[1]:.4f}, Recall: {metrics1[2]:.4f}, F1 Score: {metrics1[3]:.4f}, Specificity: {metrics1[4]:.4f}\")\n"
      ]
    },
    {
      "cell_type": "markdown",
      "metadata": {
        "id": "z18E7fvHPjqj"
      },
      "source": [
        "Definining the EfficientDense model"
      ]
    },
    {
      "cell_type": "code",
      "execution_count": null,
      "metadata": {
        "id": "SZywB8Y2PTa4"
      },
      "outputs": [],
      "source": [
        "def EfficientDense():\n",
        "    base_model1 = EfficientNetB0(weights='imagenet', include_top=False, input_shape=(224, 224, 3))\n",
        "    base_model2 = DenseNet121(weights='imagenet', include_top=False, input_shape=(224, 224, 3))\n",
        "\n",
        "    x1 = base_model1.output\n",
        "    x1 = GlobalAveragePooling2D(name='efficientnet_pooling')(x1)\n",
        "\n",
        "    x2 = base_model2.output\n",
        "    x2 = GlobalAveragePooling2D(name='densenet_pooling')(x2)\n",
        "\n",
        "    combined = Concatenate(name='concatenate')([x1, x2])\n",
        "    x = Dense(256, activation='relu', name='dense1')(combined)\n",
        "    predictions = Dense(1, activation='sigmoid', name='output')(x)\n",
        "\n",
        "    model = Model(inputs=[base_model1.input, base_model2.input], outputs=predictions)\n",
        "    return model\n"
      ]
    },
    {
      "cell_type": "markdown",
      "metadata": {
        "id": "9l3VHP4UPkXM"
      },
      "source": [
        "Training the EfficientDense Model"
      ]
    },
    {
      "cell_type": "code",
      "execution_count": null,
      "metadata": {
        "colab": {
          "base_uri": "https://localhost:8080/"
        },
        "id": "Pi2-vrMjPfDm",
        "outputId": "e9ce9edd-a938-4d5a-fbc4-5f234ee3bc07"
      },
      "outputs": [
        {
          "name": "stdout",
          "output_type": "stream",
          "text": [
            "Epoch 1/10\n",
            "25/25 [==============================] - 145s 4s/step - loss: 0.1528 - accuracy: 0.9361 - val_loss: 0.2321 - val_accuracy: 1.0000\n",
            "Epoch 2/10\n",
            "25/25 [==============================] - 88s 4s/step - loss: 0.0408 - accuracy: 0.9875 - val_loss: 0.6073 - val_accuracy: 0.6750\n",
            "Epoch 3/10\n",
            "25/25 [==============================] - 88s 4s/step - loss: 0.0189 - accuracy: 0.9962 - val_loss: 0.4794 - val_accuracy: 0.8150\n",
            "Epoch 4/10\n",
            "25/25 [==============================] - 87s 3s/step - loss: 0.0062 - accuracy: 1.0000 - val_loss: 0.6498 - val_accuracy: 0.6300\n",
            "Epoch 5/10\n",
            "25/25 [==============================] - 86s 3s/step - loss: 0.0032 - accuracy: 1.0000 - val_loss: 0.5424 - val_accuracy: 0.7500\n",
            "Epoch 6/10\n",
            "25/25 [==============================] - 86s 3s/step - loss: 0.0013 - accuracy: 1.0000 - val_loss: 0.4057 - val_accuracy: 0.8650\n",
            "Epoch 7/10\n",
            "25/25 [==============================] - 84s 3s/step - loss: 7.2626e-04 - accuracy: 1.0000 - val_loss: 0.2872 - val_accuracy: 0.9400\n",
            "Epoch 8/10\n",
            "25/25 [==============================] - 83s 3s/step - loss: 6.8204e-04 - accuracy: 1.0000 - val_loss: 0.2087 - val_accuracy: 0.9600\n",
            "Epoch 9/10\n",
            "25/25 [==============================] - 84s 3s/step - loss: 6.2609e-04 - accuracy: 1.0000 - val_loss: 0.1640 - val_accuracy: 0.9700\n",
            "Epoch 10/10\n",
            "25/25 [==============================] - 81s 3s/step - loss: 4.4587e-04 - accuracy: 1.0000 - val_loss: 0.1326 - val_accuracy: 0.9750\n"
          ]
        },
        {
          "data": {
            "text/plain": [
              "<keras.src.callbacks.History at 0x78a503ae1300>"
            ]
          },
          "execution_count": 17,
          "metadata": {},
          "output_type": "execute_result"
        }
      ],
      "source": [
        "# Train Hybrid Model EfficientDense\n",
        "model2 = EfficientDense()\n",
        "model2.compile(optimizer=Adam(learning_rate=best_learning_rate), loss='binary_crossentropy', metrics=['accuracy'])\n",
        "model2.fit([train_images, train_images], train_labels, validation_split=0.2, epochs=10)\n"
      ]
    },
    {
      "cell_type": "markdown",
      "metadata": {
        "id": "Xyki8dJgPmF9"
      },
      "source": [
        "Evaluating the EfficientDense Model"
      ]
    },
    {
      "cell_type": "code",
      "execution_count": null,
      "metadata": {
        "colab": {
          "base_uri": "https://localhost:8080/"
        },
        "id": "WwKE-zBkGZs9",
        "outputId": "371c360f-b702-42be-baf8-f2519a40af48"
      },
      "outputs": [
        {
          "name": "stdout",
          "output_type": "stream",
          "text": [
            "13/13 [==============================] - 11s 584ms/step\n",
            "Hybrid Model 2 (ResNet50 + DenseNet121): Accuracy: 1.0000, Precision: 1.0000, Recall: 1.0000, F1 Score: 1.0000, Specificity: 1.0000\n"
          ]
        }
      ],
      "source": [
        "# Evaluate Hybrid Model 2\n",
        "metrics2 = evaluate_model(model2, test_images, test_labels)\n",
        "print(f\"Hybrid Model 2 (ResNet50 + DenseNet121): Accuracy: {metrics2[0]:.4f}, Precision: {metrics2[1]:.4f}, Recall: {metrics2[2]:.4f}, F1 Score: {metrics2[3]:.4f}, Specificity: {metrics2[4]:.4f}\")\n"
      ]
    },
    {
      "cell_type": "markdown",
      "metadata": {
        "id": "zI21TEczPm_N"
      },
      "source": [
        "Definining the EfficientV3 model"
      ]
    },
    {
      "cell_type": "code",
      "execution_count": null,
      "metadata": {
        "id": "S_X8zHNjPUxY"
      },
      "outputs": [],
      "source": [
        "# Define Hybrid Models\n",
        "\n",
        "def EfficientV3():\n",
        "    base_model1 = EfficientNetB0(weights='imagenet', include_top=False, input_shape=(224, 224, 3))\n",
        "    base_model2 = InceptionV3(weights='imagenet', include_top=False, input_shape=(224, 224, 3))\n",
        "\n",
        "    x1 = base_model1.output\n",
        "    x1 = GlobalAveragePooling2D()(x1)\n",
        "\n",
        "    x2 = base_model2.output\n",
        "    x2 = GlobalAveragePooling2D()(x2)\n",
        "\n",
        "    combined = Concatenate()([x1, x2])\n",
        "    x = Dense(256, activation='relu')(combined)\n",
        "    predictions = Dense(1, activation='sigmoid')(x)\n",
        "\n",
        "    model = Model(inputs=[base_model1.input, base_model2.input], outputs=predictions)\n",
        "    return model"
      ]
    },
    {
      "cell_type": "markdown",
      "metadata": {
        "id": "tjhqUO0qPnph"
      },
      "source": [
        "Training the EfficientV3 Model"
      ]
    },
    {
      "cell_type": "code",
      "execution_count": null,
      "metadata": {
        "colab": {
          "base_uri": "https://localhost:8080/"
        },
        "id": "0zQBAC_rPgyP",
        "outputId": "b69874f3-a81c-46a2-9742-01423b141014"
      },
      "outputs": [
        {
          "name": "stdout",
          "output_type": "stream",
          "text": [
            "Downloading data from https://storage.googleapis.com/tensorflow/keras-applications/inception_v3/inception_v3_weights_tf_dim_ordering_tf_kernels_notop.h5\n",
            "87910968/87910968 [==============================] - 0s 0us/step\n",
            "Epoch 1/10\n",
            "25/25 [==============================] - 90s 2s/step - loss: 0.1715 - accuracy: 0.9461 - val_loss: 0.0019 - val_accuracy: 1.0000\n",
            "Epoch 2/10\n",
            "25/25 [==============================] - 46s 2s/step - loss: 0.0344 - accuracy: 0.9862 - val_loss: 1.4519e-04 - val_accuracy: 1.0000\n",
            "Epoch 3/10\n",
            "25/25 [==============================] - 45s 2s/step - loss: 0.0211 - accuracy: 0.9937 - val_loss: 0.0068 - val_accuracy: 0.9950\n",
            "Epoch 4/10\n",
            "25/25 [==============================] - 45s 2s/step - loss: 0.0202 - accuracy: 0.9937 - val_loss: 0.0292 - val_accuracy: 0.9900\n",
            "Epoch 5/10\n",
            "25/25 [==============================] - 45s 2s/step - loss: 0.0056 - accuracy: 1.0000 - val_loss: 0.0133 - val_accuracy: 0.9950\n",
            "Epoch 6/10\n",
            "25/25 [==============================] - 44s 2s/step - loss: 0.0020 - accuracy: 1.0000 - val_loss: 0.0209 - val_accuracy: 1.0000\n",
            "Epoch 7/10\n",
            "25/25 [==============================] - 44s 2s/step - loss: 7.7850e-04 - accuracy: 1.0000 - val_loss: 0.0259 - val_accuracy: 0.9950\n",
            "Epoch 8/10\n",
            "25/25 [==============================] - 45s 2s/step - loss: 0.0015 - accuracy: 1.0000 - val_loss: 0.0392 - val_accuracy: 0.9950\n",
            "Epoch 9/10\n",
            "25/25 [==============================] - 45s 2s/step - loss: 6.1397e-04 - accuracy: 1.0000 - val_loss: 0.0326 - val_accuracy: 0.9900\n",
            "Epoch 10/10\n",
            "25/25 [==============================] - 44s 2s/step - loss: 2.8659e-04 - accuracy: 1.0000 - val_loss: 0.0320 - val_accuracy: 1.0000\n"
          ]
        },
        {
          "data": {
            "text/plain": [
              "<keras.src.callbacks.History at 0x78a50332a980>"
            ]
          },
          "execution_count": 20,
          "metadata": {},
          "output_type": "execute_result"
        }
      ],
      "source": [
        "# Train Hybrid Model EfficientV3\n",
        "model3 = EfficientV3()\n",
        "model3.compile(optimizer=Adam(learning_rate=best_learning_rate), loss='binary_crossentropy', metrics=['accuracy'])\n",
        "model3.fit([train_images, train_images], train_labels, validation_split=0.2, epochs=10)"
      ]
    },
    {
      "cell_type": "markdown",
      "metadata": {
        "id": "rDBQUb8XPoMh"
      },
      "source": [
        "Evaluating the EfficientV3 Model"
      ]
    },
    {
      "cell_type": "code",
      "execution_count": null,
      "metadata": {
        "colab": {
          "base_uri": "https://localhost:8080/"
        },
        "id": "aLCq-6amGeW3",
        "outputId": "1bf93b4f-e5b0-4459-bfbd-cf154d5d812c"
      },
      "outputs": [
        {
          "name": "stdout",
          "output_type": "stream",
          "text": [
            "13/13 [==============================] - 7s 328ms/step\n",
            "Hybrid Model 3 (VGG16 + MobileNetV2): Accuracy: 1.0000, Precision: 1.0000, Recall: 1.0000, F1 Score: 1.0000, Specificity: 1.0000\n"
          ]
        }
      ],
      "source": [
        "# Evaluate Hybrid Model 3\n",
        "metrics3 = evaluate_model(model3, test_images, test_labels)\n",
        "print(f\"Hybrid Model 3 (VGG16 + MobileNetV2): Accuracy: {metrics3[0]:.4f}, Precision: {metrics3[1]:.4f}, Recall: {metrics3[2]:.4f}, F1 Score: {metrics3[3]:.4f}, Specificity: {metrics3[4]:.4f}\")\n"
      ]
    },
    {
      "cell_type": "markdown",
      "metadata": {
        "id": "AOk7rXI0PpB4"
      },
      "source": [
        "Definining the InceptionDense model"
      ]
    },
    {
      "cell_type": "code",
      "execution_count": null,
      "metadata": {
        "id": "EFMrXZCNPWUe"
      },
      "outputs": [],
      "source": [
        "def InceptionDense():\n",
        "    base_model1 = InceptionV3(weights='imagenet', include_top=False, input_shape=(224, 224, 3))\n",
        "    base_model2 = DenseNet121(weights='imagenet', include_top=False, input_shape=(224, 224, 3))\n",
        "\n",
        "    x1 = base_model1.output\n",
        "    x1 = GlobalAveragePooling2D(name='inception_pooling')(x1)\n",
        "\n",
        "    x2 = base_model2.output\n",
        "    x2 = GlobalAveragePooling2D(name='densenet_pooling')(x2)\n",
        "\n",
        "    combined = Concatenate(name='concatenate')( [x1, x2])\n",
        "    x = Dense(256, activation='relu', name='dense1')(combined)\n",
        "    predictions = Dense(1, activation='sigmoid', name='output')(x)\n",
        "\n",
        "    model = Model(inputs=[base_model1.input, base_model2.input], outputs=predictions)\n",
        "    return model"
      ]
    },
    {
      "cell_type": "markdown",
      "metadata": {
        "id": "KTUokFE9Pp4E"
      },
      "source": [
        "Training the InceptionDense Model"
      ]
    },
    {
      "cell_type": "code",
      "execution_count": null,
      "metadata": {
        "colab": {
          "base_uri": "https://localhost:8080/"
        },
        "id": "1HG9AXTGPiM0",
        "outputId": "574f3c1f-5230-4485-dd58-9c9849b3ff8e"
      },
      "outputs": [
        {
          "name": "stdout",
          "output_type": "stream",
          "text": [
            "Epoch 1/10\n",
            "25/25 [==============================] - 136s 3s/step - loss: 0.1741 - accuracy: 0.9386 - val_loss: 0.0697 - val_accuracy: 0.9750\n",
            "Epoch 2/10\n",
            "25/25 [==============================] - 80s 3s/step - loss: 0.0311 - accuracy: 0.9887 - val_loss: 0.0059 - val_accuracy: 1.0000\n",
            "Epoch 3/10\n",
            "25/25 [==============================] - 80s 3s/step - loss: 0.0140 - accuracy: 0.9950 - val_loss: 0.0066 - val_accuracy: 1.0000\n",
            "Epoch 4/10\n",
            "25/25 [==============================] - 80s 3s/step - loss: 0.0069 - accuracy: 1.0000 - val_loss: 0.0197 - val_accuracy: 0.9950\n",
            "Epoch 5/10\n",
            "25/25 [==============================] - 80s 3s/step - loss: 0.0011 - accuracy: 1.0000 - val_loss: 0.0325 - val_accuracy: 0.9900\n",
            "Epoch 6/10\n",
            "25/25 [==============================] - 80s 3s/step - loss: 5.1583e-04 - accuracy: 1.0000 - val_loss: 0.0351 - val_accuracy: 0.9900\n",
            "Epoch 7/10\n",
            "25/25 [==============================] - 81s 3s/step - loss: 2.2286e-04 - accuracy: 1.0000 - val_loss: 0.0367 - val_accuracy: 0.9850\n",
            "Epoch 8/10\n",
            "25/25 [==============================] - 81s 3s/step - loss: 2.3372e-04 - accuracy: 1.0000 - val_loss: 0.0364 - val_accuracy: 0.9900\n",
            "Epoch 9/10\n",
            "25/25 [==============================] - 80s 3s/step - loss: 1.8413e-04 - accuracy: 1.0000 - val_loss: 0.0336 - val_accuracy: 0.9950\n",
            "Epoch 10/10\n",
            "25/25 [==============================] - 81s 3s/step - loss: 2.0975e-04 - accuracy: 1.0000 - val_loss: 0.0291 - val_accuracy: 0.9950\n"
          ]
        },
        {
          "data": {
            "text/plain": [
              "<keras.src.callbacks.History at 0x78a502713e80>"
            ]
          },
          "execution_count": 23,
          "metadata": {},
          "output_type": "execute_result"
        }
      ],
      "source": [
        "# Train Hybrid Model InceptionDense\n",
        "model4 = InceptionDense()\n",
        "model4.compile(optimizer=Adam(learning_rate=best_learning_rate), loss='binary_crossentropy', metrics=['accuracy'])\n",
        "model4.fit([train_images, train_images], train_labels, validation_split=0.2, epochs=10)"
      ]
    },
    {
      "cell_type": "markdown",
      "metadata": {
        "id": "KcZBFGquPqc_"
      },
      "source": [
        "Evaluating the InceptionDense Model"
      ]
    },
    {
      "cell_type": "code",
      "execution_count": null,
      "metadata": {
        "colab": {
          "base_uri": "https://localhost:8080/"
        },
        "id": "o96RZ3CoGj9e",
        "outputId": "30f47022-1287-4065-fc49-9a2314630893"
      },
      "outputs": [
        {
          "name": "stdout",
          "output_type": "stream",
          "text": [
            "13/13 [==============================] - 11s 564ms/step\n",
            "Hybrid Model 4 (InceptionV3 + DenseNet121): Accuracy: 0.9975, Precision: 0.9947, Recall: 1.0000, F1 Score: 0.9973, Specificity: 0.9952\n"
          ]
        }
      ],
      "source": [
        "\n",
        "# Evaluate Hybrid Model 4\n",
        "metrics4 = evaluate_model(model4, test_images, test_labels)\n",
        "print(f\"Hybrid Model 4 (InceptionV3 + DenseNet121): Accuracy: {metrics4[0]:.4f}, Precision: {metrics4[1]:.4f}, Recall: {metrics4[2]:.4f}, F1 Score: {metrics4[3]:.4f}, Specificity: {metrics4[4]:.4f}\")\n"
      ]
    },
    {
      "cell_type": "markdown",
      "metadata": {
        "id": "Z-Fs5b70PrAf"
      },
      "source": [
        "Definining the EfficientVGG model"
      ]
    },
    {
      "cell_type": "code",
      "execution_count": null,
      "metadata": {
        "id": "2jpyYsQ2PX_7"
      },
      "outputs": [],
      "source": [
        "def EfficientVGG():\n",
        "    base_model1 = EfficientNetB0(weights='imagenet', include_top=False, input_shape=(224, 224, 3))\n",
        "    base_model2 = VGG16(weights='imagenet', include_top=False, input_shape=(224, 224, 3))\n",
        "\n",
        "    x1 = base_model1.output\n",
        "    x1 = GlobalAveragePooling2D(name='efficientnet_pooling')(x1)\n",
        "\n",
        "    x2 = base_model2.output\n",
        "    x2 = GlobalAveragePooling2D(name='vgg_pooling')(x2)\n",
        "\n",
        "    combined = Concatenate(name='concatenate')( [x1, x2])\n",
        "    x = Dense(256, activation='relu', name='dense1')(combined)\n",
        "    predictions = Dense(1, activation='sigmoid', name='output')(x)\n",
        "\n",
        "    model = Model(inputs=[base_model1.input, base_model2.input], outputs=predictions)\n",
        "    return model"
      ]
    },
    {
      "cell_type": "markdown",
      "metadata": {
        "id": "qZNyo9nuPrl-"
      },
      "source": [
        "Training the EfficientVGG Model"
      ]
    },
    {
      "cell_type": "code",
      "execution_count": null,
      "metadata": {
        "colab": {
          "base_uri": "https://localhost:8080/"
        },
        "id": "JrIrVq1uPjfq",
        "outputId": "2f89f057-15d5-4875-bbc3-6f6ebc5a280a"
      },
      "outputs": [
        {
          "name": "stdout",
          "output_type": "stream",
          "text": [
            "Epoch 1/10\n",
            "25/25 [==============================] - 151s 5s/step - loss: 0.1800 - accuracy: 0.9361 - val_loss: 0.0153 - val_accuracy: 1.0000\n",
            "Epoch 2/10\n",
            "25/25 [==============================] - 127s 5s/step - loss: 0.0593 - accuracy: 0.9737 - val_loss: 3.1360e-07 - val_accuracy: 1.0000\n",
            "Epoch 3/10\n",
            "25/25 [==============================] - 126s 5s/step - loss: 0.0388 - accuracy: 0.9850 - val_loss: 7.1271e-06 - val_accuracy: 1.0000\n",
            "Epoch 4/10\n",
            "25/25 [==============================] - 126s 5s/step - loss: 0.0303 - accuracy: 0.9912 - val_loss: 1.6909e-05 - val_accuracy: 1.0000\n",
            "Epoch 5/10\n",
            "25/25 [==============================] - 125s 5s/step - loss: 0.0108 - accuracy: 0.9975 - val_loss: 0.0358 - val_accuracy: 0.9950\n",
            "Epoch 6/10\n",
            "25/25 [==============================] - 125s 5s/step - loss: 0.0081 - accuracy: 0.9975 - val_loss: 0.0016 - val_accuracy: 1.0000\n",
            "Epoch 7/10\n",
            "25/25 [==============================] - 125s 5s/step - loss: 0.0081 - accuracy: 0.9987 - val_loss: 2.4053e-04 - val_accuracy: 1.0000\n",
            "Epoch 8/10\n",
            "25/25 [==============================] - 125s 5s/step - loss: 0.0043 - accuracy: 0.9987 - val_loss: 0.0224 - val_accuracy: 0.9900\n",
            "Epoch 9/10\n",
            "25/25 [==============================] - 125s 5s/step - loss: 0.0064 - accuracy: 0.9975 - val_loss: 7.5197e-07 - val_accuracy: 1.0000\n",
            "Epoch 10/10\n",
            "25/25 [==============================] - 126s 5s/step - loss: 0.0030 - accuracy: 0.9987 - val_loss: 3.4284e-07 - val_accuracy: 1.0000\n"
          ]
        },
        {
          "data": {
            "text/plain": [
              "<keras.src.callbacks.History at 0x78a501d297b0>"
            ]
          },
          "execution_count": 27,
          "metadata": {},
          "output_type": "execute_result"
        }
      ],
      "source": [
        "# Train Hybrid Model EfficientVGG\n",
        "model5 = EfficientVGG()\n",
        "model5.compile(optimizer=Adam(learning_rate=best_learning_rate), loss='binary_crossentropy', metrics=['accuracy'])\n",
        "model5.fit([train_images, train_images], train_labels, validation_split=0.2, epochs=10)"
      ]
    },
    {
      "cell_type": "markdown",
      "metadata": {
        "id": "jAhfR2H5PsHK"
      },
      "source": [
        "Evaluating the EfficientVGG Model"
      ]
    },
    {
      "cell_type": "code",
      "execution_count": null,
      "metadata": {
        "colab": {
          "base_uri": "https://localhost:8080/"
        },
        "id": "fbP1nqXoGnVF",
        "outputId": "9cbeb176-6a24-4cc7-c888-b5fcb8fd251d"
      },
      "outputs": [
        {
          "name": "stdout",
          "output_type": "stream",
          "text": [
            "13/13 [==============================] - 11s 704ms/step\n",
            "Hybrid Model 5 (EfficientNetB0 + VGG16): Accuracy: 0.9975, Precision: 0.9947, Recall: 1.0000, F1 Score: 0.9973, Specificity: 0.9952\n"
          ]
        }
      ],
      "source": [
        "# Evaluate Hybrid Model 5\n",
        "metrics5 = evaluate_model(model5, test_images, test_labels)\n",
        "print(f\"Hybrid Model 5 (EfficientNetB0 + VGG16): Accuracy: {metrics5[0]:.4f}, Precision: {metrics5[1]:.4f}, Recall: {metrics5[2]:.4f}, F1 Score: {metrics5[3]:.4f}, Specificity: {metrics5[4]:.4f}\")\n"
      ]
    },
    {
      "cell_type": "markdown",
      "metadata": {
        "id": "x3Q-R7VCPszm"
      },
      "source": [
        "Definining the ResNetV2 model"
      ]
    },
    {
      "cell_type": "code",
      "execution_count": 8,
      "metadata": {
        "id": "f-z31v2BPZT5"
      },
      "outputs": [],
      "source": [
        "def ResNetV2():\n",
        "    base_model1 = ResNet50(weights='imagenet', include_top=False, input_shape=(224, 224, 3))\n",
        "    base_model2 = MobileNetV2(weights='imagenet', include_top=False, input_shape=(224, 224, 3))\n",
        "\n",
        "    x1 = base_model1.output\n",
        "    x1 = GlobalAveragePooling2D(name='resnet_pooling')(x1)\n",
        "\n",
        "    x2 = base_model2.output\n",
        "    x2 = GlobalAveragePooling2D(name='mobilenet_pooling')(x2)\n",
        "\n",
        "    combined = Concatenate(name='concatenate')( [x1, x2])\n",
        "    x = Dense(256, activation='relu', name='dense1')(combined)\n",
        "    predictions = Dense(1, activation='sigmoid', name='output')(x)\n",
        "\n",
        "    model = Model(inputs=[base_model1.input, base_model2.input], outputs=predictions)\n",
        "    return model"
      ]
    },
    {
      "cell_type": "markdown",
      "metadata": {
        "id": "3m4JTfH4Ptg-"
      },
      "source": [
        "Training the ResNetV2 Model"
      ]
    },
    {
      "cell_type": "code",
      "execution_count": 9,
      "metadata": {
        "colab": {
          "base_uri": "https://localhost:8080/"
        },
        "id": "LPIJ56iUPlEO",
        "outputId": "351a45df-41bd-4f76-c0d7-aab7b3f9137c"
      },
      "outputs": [
        {
          "name": "stdout",
          "output_type": "stream",
          "text": [
            "Downloading data from https://storage.googleapis.com/tensorflow/keras-applications/resnet/resnet50_weights_tf_dim_ordering_tf_kernels_notop.h5\n",
            "94765736/94765736 [==============================] - 0s 0us/step\n",
            "Downloading data from https://storage.googleapis.com/tensorflow/keras-applications/mobilenet_v2/mobilenet_v2_weights_tf_dim_ordering_tf_kernels_1.0_224_no_top.h5\n",
            "9406464/9406464 [==============================] - 0s 0us/step\n",
            "Epoch 1/10\n",
            "25/25 [==============================] - 92s 3s/step - loss: 0.1366 - accuracy: 0.9449 - val_loss: 0.0610 - val_accuracy: 1.0000\n",
            "Epoch 2/10\n",
            "25/25 [==============================] - 60s 2s/step - loss: 0.0266 - accuracy: 0.9900 - val_loss: 0.0506 - val_accuracy: 0.9950\n",
            "Epoch 3/10\n",
            "25/25 [==============================] - 59s 2s/step - loss: 0.0056 - accuracy: 1.0000 - val_loss: 0.0374 - val_accuracy: 0.9950\n",
            "Epoch 4/10\n",
            "25/25 [==============================] - 59s 2s/step - loss: 0.0021 - accuracy: 1.0000 - val_loss: 0.0176 - val_accuracy: 1.0000\n",
            "Epoch 5/10\n",
            "25/25 [==============================] - 59s 2s/step - loss: 0.0027 - accuracy: 1.0000 - val_loss: 0.0411 - val_accuracy: 0.9950\n",
            "Epoch 6/10\n",
            "25/25 [==============================] - 58s 2s/step - loss: 0.0012 - accuracy: 1.0000 - val_loss: 0.0720 - val_accuracy: 0.9950\n",
            "Epoch 7/10\n",
            "25/25 [==============================] - 57s 2s/step - loss: 4.1459e-04 - accuracy: 1.0000 - val_loss: 0.0787 - val_accuracy: 0.9950\n",
            "Epoch 8/10\n",
            "25/25 [==============================] - 58s 2s/step - loss: 2.2709e-04 - accuracy: 1.0000 - val_loss: 0.0848 - val_accuracy: 0.9950\n",
            "Epoch 9/10\n",
            "25/25 [==============================] - 57s 2s/step - loss: 1.7743e-04 - accuracy: 1.0000 - val_loss: 0.0911 - val_accuracy: 0.9900\n",
            "Epoch 10/10\n",
            "25/25 [==============================] - 58s 2s/step - loss: 7.9875e-05 - accuracy: 1.0000 - val_loss: 0.1077 - val_accuracy: 0.9800\n"
          ]
        },
        {
          "data": {
            "text/plain": [
              "<keras.src.callbacks.History at 0x7b3a577598d0>"
            ]
          },
          "execution_count": 9,
          "metadata": {},
          "output_type": "execute_result"
        }
      ],
      "source": [
        "\n",
        "# Train Hybrid Model ResNetV2\n",
        "model6 = ResNetV2()\n",
        "model6.compile(optimizer=Adam(learning_rate=best_learning_rate), loss='binary_crossentropy', metrics=['accuracy'])\n",
        "model6.fit([train_images, train_images], train_labels, validation_split=0.2, epochs=10)"
      ]
    },
    {
      "cell_type": "markdown",
      "metadata": {
        "id": "ql1gmXABPuZt"
      },
      "source": [
        "Evaluating the ResNetV2 Model"
      ]
    },
    {
      "cell_type": "code",
      "execution_count": 11,
      "metadata": {
        "colab": {
          "base_uri": "https://localhost:8080/"
        },
        "id": "P1muUcLYGsUR",
        "outputId": "4750177c-0fe6-4464-fcb2-1debf4bad9c1"
      },
      "outputs": [
        {
          "name": "stdout",
          "output_type": "stream",
          "text": [
            "13/13 [==============================] - 7s 540ms/step\n",
            "Hybrid Model 6 (ResNet50 + MobileNetV2): Accuracy: 0.6540, Precision: 0.5772, Recall: 1.0000, F1 Score: 0.7319, Specificity: 0.3445\n"
          ]
        }
      ],
      "source": [
        "\n",
        "#  Evaluate Hybrid Model 6\n",
        "metrics6 = evaluate_model(model6, test_images, test_labels)\n",
        "print(f\"Hybrid Model 6 (ResNet50 + MobileNetV2): Accuracy: {metrics6[0]:.4f}, Precision: {metrics6[1]:.4f}, Recall: {metrics6[2]:.4f}, F1 Score: {metrics6[3]:.4f}, Specificity: {metrics6[4]:.4f}\")\n",
        "\n"
      ]
    },
    {
      "cell_type": "markdown",
      "metadata": {
        "id": "EZqBcAqcPyQU"
      },
      "source": [
        "Accuracy Curve"
      ]
    },
    {
      "cell_type": "code",
      "execution_count": null,
      "metadata": {
        "colab": {
          "base_uri": "https://localhost:8080/",
          "height": 564
        },
        "id": "yjCRBfFVy3Ks",
        "outputId": "f5c74035-2548-4b6a-9dc3-29b30913bf39"
      },
      "outputs": [
        {
          "data": {
            "image/png": "[encoded data removed]",
            "text/plain": [
              "<Figure size 800x600 with 1 Axes>"
            ]
          },
          "metadata": {},
          "output_type": "display_data"
        }
      ],
      "source": [
        "import matplotlib.pyplot as plt\n",
        "\n",
        "# Accuracy graph\n",
        "plt.figure(figsize=(8, 6))\n",
        "plt.plot([1, 2, 3, 4, 5, 6, 7, 8, 9, 10], [0.9386, 0.9887, 0.995, 1.0, 1.0, 1.0, 1.0, 1.0, 1.0, 1.0], label='Training Accuracy')\n",
        "plt.plot([1, 2, 3, 4, 5, 6, 7, 8, 9, 10], [0.975, 1.0, 1.0, 0.995, 0.99, 0.99, 0.985, 0.99, 0.995, 0.995], label='Validation Accuracy')\n",
        "plt.xlabel('Epoch')\n",
        "plt.ylabel('Accuracy')\n",
        "plt.title('Epochs vs Accuracy')\n",
        "plt.legend()\n",
        "plt.show()\n"
      ]
    },
    {
      "cell_type": "markdown",
      "metadata": {
        "id": "9G39wvIBP8Yc"
      },
      "source": [
        "Loss Curve"
      ]
    },
    {
      "cell_type": "code",
      "execution_count": null,
      "metadata": {
        "colab": {
          "base_uri": "https://localhost:8080/",
          "height": 564
        },
        "id": "GbRqkmCly4ur",
        "outputId": "0f1f4130-c78c-4042-bdea-6cd2a517e472"
      },
      "outputs": [
        {
          "data": {
            "image/png": "[encoded data removed]",
            "text/plain": [
              "<Figure size 800x600 with 1 Axes>"
            ]
          },
          "metadata": {},
          "output_type": "display_data"
        }
      ],
      "source": [
        "\n",
        "# Loss graph\n",
        "plt.figure(figsize=(8, 6))\n",
        "plt.plot([1, 2, 3, 4, 5, 6, 7, 8, 9, 10], [0.1741, 0.0311, 0.014, 0.0069, 0.0011, 0.0005158, 0.0002229, 0.0002337, 0.0001841, 0.0002097], label='Training Loss')\n",
        "plt.plot([1, 2, 3, 4, 5, 6, 7, 8, 9, 10], [0.0697, 0.0059, 0.0066, 0.0197, 0.0325, 0.0351, 0.0367, 0.0364, 0.0336, 0.0291], label='Validation Loss')\n",
        "plt.xlabel('Epoch')\n",
        "plt.ylabel('Loss')\n",
        "plt.title('Epochs vs Loss')\n",
        "plt.legend()\n",
        "plt.show()"
      ]
    }
  ],
  "metadata": {
    "accelerator": "TPU",
    "colab": {
      "gpuType": "V28",
      "provenance": []
    },
    "kernelspec": {
      "display_name": "Python 3",
      "name": "python3"
    },
    "language_info": {
      "name": "python"
    }
  },
  "nbformat": 4,
  "nbformat_minor": 0
}
